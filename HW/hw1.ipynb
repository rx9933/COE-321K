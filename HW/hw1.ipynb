{
 "cells": [
  {
   "cell_type": "code",
   "execution_count": 3,
   "metadata": {},
   "outputs": [
    {
     "name": "stdout",
     "output_type": "stream",
     "text": [
      "Resulting matrix K:\n",
      "[[ 0.33333333  0.          0.072      -0.096       0.          0.\n",
      "  -0.40533333  0.096     ]\n",
      " [ 0.          0.         -0.096       0.128       0.          0.25\n",
      "   0.096      -0.378     ]]\n"
     ]
    }
   ],
   "source": [
    "import numpy as np\n",
    "\n",
    "# Define matrices\n",
    "M = np.array([\n",
    "    [-1, -3/5, 0],\n",
    "    [0, 4/5, 1]\n",
    "])\n",
    "\n",
    "C = np.array([\n",
    "    [1/3, 0, 0],\n",
    "    [0, 1/5, 0],\n",
    "    [0, 0, 1/4]\n",
    "])\n",
    "\n",
    "N = np.array([\n",
    "    [-1, 0, 0, 0, 0, 0, 1, 0],\n",
    "    [0, 0, -3/5, 4/5, 0, 0, 3/5, -4/5],\n",
    "    [0, 0, 0, 0, 0, 1, 0, -1]\n",
    "])\n",
    "\n",
    "# Compute the result\n",
    "K = M @ C @ N\n",
    "\n",
    "# Print the result\n",
    "print(\"Resulting matrix K:\")\n",
    "print(K)\n",
    "\n"
   ]
  },
  {
   "cell_type": "code",
   "execution_count": 55,
   "metadata": {},
   "outputs": [
    {
     "name": "stdout",
     "output_type": "stream",
     "text": [
      "[-0.66666667 -2.81481481]\n",
      "[-2.77555756e-17  1.00000000e+00]\n"
     ]
    }
   ],
   "source": [
    "Kred = K[:,-2:]\n",
    "u_red = np.linalg.inv(Kred)@np.array([0,1])\n",
    "print(u_red)\n",
    "unodes = ([0]*6)\n",
    "unodes.append(u_red[0])\n",
    "unodes.append(u_red[1])\n",
    "Fint = C@N@unodes\n",
    "print(M@Fint)"
   ]
  }
 ],
 "metadata": {
  "kernelspec": {
   "display_name": "Python 3",
   "language": "python",
   "name": "python3"
  },
  "language_info": {
   "codemirror_mode": {
    "name": "ipython",
    "version": 3
   },
   "file_extension": ".py",
   "mimetype": "text/x-python",
   "name": "python",
   "nbconvert_exporter": "python",
   "pygments_lexer": "ipython3",
   "version": "3.10.12"
  }
 },
 "nbformat": 4,
 "nbformat_minor": 2
}
